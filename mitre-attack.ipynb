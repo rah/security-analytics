{
 "cells": [
  {
   "cell_type": "markdown",
   "metadata": {},
   "source": [
    "# Analysis of Mitre Attack data\n",
    "\n",
    "### Questions to ask\n",
    "\n",
    "* Which groups are specialised and which use a wide range of techniques\n",
    "\n",
    "* What are the more frequently used Techniques across all Groups\n",
    "\n",
    "* What are the more frequenty used Mitigations across all Groups\n",
    "\n"
   ]
  },
  {
   "cell_type": "code",
   "execution_count": 1,
   "metadata": {},
   "outputs": [],
   "source": [
    "import pandas as pd\n",
    "import matplotlib.pyplot as plt\n",
    "from pyattck import Attck\n",
    "\n",
    "attack = Attck()\n",
    "attack.update(enterprise=True)"
   ]
  },
  {
   "cell_type": "markdown",
   "metadata": {},
   "source": [
    "### Group vs Technique Analysis\n",
    "Build a cross reference dataframe of Groups and Techniques"
   ]
  },
  {
   "cell_type": "code",
   "execution_count": 2,
   "metadata": {},
   "outputs": [
    {
     "name": "stdout",
     "output_type": "stream",
     "text": [
      "Total number of techniques = 266\n"
     ]
    }
   ],
   "source": [
    "t = []\n",
    "for technique in attack.enterprise.techniques:\n",
    "    t.append(technique.name)\n",
    "    \n",
    "print(\"Total number of techniques = \" + str(len(t)))"
   ]
  },
  {
   "cell_type": "code",
   "execution_count": 3,
   "metadata": {},
   "outputs": [],
   "source": [
    "groups = []\n",
    "techniques1 = []\n",
    "\n",
    "for technique in attack.enterprise.techniques:\n",
    "    for actor in technique.actors:\n",
    "        techniques1.append(technique.name)\n",
    "        groups.append(actor.name)\n",
    "\n",
    "data2 = {\n",
    "    'techniques': techniques1,\n",
    "    'groups': groups\n",
    "}\n",
    "\n",
    "t2g = pd.DataFrame(data2, columns=['techniques', 'groups'])\n"
   ]
  },
  {
   "cell_type": "code",
   "execution_count": 4,
   "metadata": {},
   "outputs": [
    {
     "data": {
      "text/html": [
       "<div>\n",
       "<style scoped>\n",
       "    .dataframe tbody tr th:only-of-type {\n",
       "        vertical-align: middle;\n",
       "    }\n",
       "\n",
       "    .dataframe tbody tr th {\n",
       "        vertical-align: top;\n",
       "    }\n",
       "\n",
       "    .dataframe thead th {\n",
       "        text-align: right;\n",
       "    }\n",
       "</style>\n",
       "<table border=\"1\" class=\"dataframe\">\n",
       "  <thead>\n",
       "    <tr style=\"text-align: right;\">\n",
       "      <th></th>\n",
       "      <th>techniques</th>\n",
       "      <th>groups</th>\n",
       "    </tr>\n",
       "  </thead>\n",
       "  <tbody>\n",
       "    <tr>\n",
       "      <th>0</th>\n",
       "      <td>Access Token Manipulation</td>\n",
       "      <td>Lazarus Group</td>\n",
       "    </tr>\n",
       "    <tr>\n",
       "      <th>1</th>\n",
       "      <td>Access Token Manipulation</td>\n",
       "      <td>APT28</td>\n",
       "    </tr>\n",
       "    <tr>\n",
       "      <th>2</th>\n",
       "      <td>Access Token Manipulation</td>\n",
       "      <td>Turla</td>\n",
       "    </tr>\n",
       "    <tr>\n",
       "      <th>3</th>\n",
       "      <td>Accessibility Features</td>\n",
       "      <td>APT3</td>\n",
       "    </tr>\n",
       "    <tr>\n",
       "      <th>4</th>\n",
       "      <td>Accessibility Features</td>\n",
       "      <td>APT29</td>\n",
       "    </tr>\n",
       "    <tr>\n",
       "      <th>5</th>\n",
       "      <td>Accessibility Features</td>\n",
       "      <td>Deep Panda</td>\n",
       "    </tr>\n",
       "    <tr>\n",
       "      <th>6</th>\n",
       "      <td>Accessibility Features</td>\n",
       "      <td>Axiom</td>\n",
       "    </tr>\n",
       "    <tr>\n",
       "      <th>7</th>\n",
       "      <td>Accessibility Features</td>\n",
       "      <td>APT41</td>\n",
       "    </tr>\n",
       "    <tr>\n",
       "      <th>8</th>\n",
       "      <td>Account Discovery</td>\n",
       "      <td>APT3</td>\n",
       "    </tr>\n",
       "    <tr>\n",
       "      <th>9</th>\n",
       "      <td>Account Discovery</td>\n",
       "      <td>FIN6</td>\n",
       "    </tr>\n",
       "  </tbody>\n",
       "</table>\n",
       "</div>"
      ],
      "text/plain": [
       "                  techniques         groups\n",
       "0  Access Token Manipulation  Lazarus Group\n",
       "1  Access Token Manipulation          APT28\n",
       "2  Access Token Manipulation          Turla\n",
       "3     Accessibility Features           APT3\n",
       "4     Accessibility Features          APT29\n",
       "5     Accessibility Features     Deep Panda\n",
       "6     Accessibility Features          Axiom\n",
       "7     Accessibility Features          APT41\n",
       "8          Account Discovery           APT3\n",
       "9          Account Discovery           FIN6"
      ]
     },
     "execution_count": 4,
     "metadata": {},
     "output_type": "execute_result"
    }
   ],
   "source": [
    "t2g.head(n=10)"
   ]
  },
  {
   "cell_type": "code",
   "execution_count": 5,
   "metadata": {},
   "outputs": [
    {
     "name": "stdout",
     "output_type": "stream",
     "text": [
      "95 Techniques are not used by Groups\n"
     ]
    }
   ],
   "source": [
    "td = list(set(t) - set(techniques1))\n",
    "print(str(len(td)) + \" Techniques are not used by Groups\")"
   ]
  },
  {
   "cell_type": "markdown",
   "metadata": {},
   "source": [
    "#### Group Frequency\n",
    "\n",
    "What is the frequency of each group in using the list of techniques? This will tell us if the group uses a wide range of techniques or is very specialised in which techniques they use."
   ]
  },
  {
   "cell_type": "code",
   "execution_count": 6,
   "metadata": {},
   "outputs": [
    {
     "data": {
      "text/plain": [
       "Lazarus Group        55\n",
       "APT32                55\n",
       "APT28                53\n",
       "OilRig               44\n",
       "APT3                 44\n",
       "Threat Group-3390    42\n",
       "APT41                41\n",
       "Dragonfly 2.0        41\n",
       "Turla                38\n",
       "Patchwork            34\n",
       "menuPass             32\n",
       "MuddyWater           31\n",
       "BRONZE BUTLER        31\n",
       "Cobalt Group         29\n",
       "Soft Cell            28\n",
       "APT37                27\n",
       "Magic Hound          27\n",
       "Ke3chang             27\n",
       "FIN8                 25\n",
       "Leviathan            25\n",
       "Name: groups, dtype: int64"
      ]
     },
     "execution_count": 6,
     "metadata": {},
     "output_type": "execute_result"
    }
   ],
   "source": [
    "groupFrequency = t2g['groups'].value_counts()\n",
    "\n",
    "#with pd.option_context('display.max_rows', 10):\n",
    "#    display(groupFrequency)\n",
    "    \n",
    "groupFrequency.head(n=20)\n"
   ]
  },
  {
   "cell_type": "code",
   "execution_count": 52,
   "metadata": {},
   "outputs": [
    {
     "data": {
      "text/plain": [
       "<BarContainer object of 84 artists>"
      ]
     },
     "execution_count": 52,
     "metadata": {},
     "output_type": "execute_result"
    },
    {
     "data": {
      "image/png": "[encoded data removed]",
      "text/plain": [
       "<Figure size 432x288 with 1 Axes>"
      ]
     },
     "metadata": {
      "needs_background": "light"
     },
     "output_type": "display_data"
    }
   ],
   "source": [
    "plt.bar(groupFrequency.index, groupFrequency.values)"
   ]
  },
  {
   "cell_type": "markdown",
   "metadata": {},
   "source": [
    "#### Technique Frequency\n",
    "\n",
    "What is the frequency of each technique used by groups. This will tell us how popular a technique is used by Groups."
   ]
  },
  {
   "cell_type": "code",
   "execution_count": 7,
   "metadata": {},
   "outputs": [
    {
     "data": {
      "text/plain": [
       "Scripting                                 41\n",
       "Spearphishing Attachment                  37\n",
       "User Execution                            37\n",
       "PowerShell                                36\n",
       "Obfuscated Files or Information           36\n",
       "Credential Dumping                        36\n",
       "Command-Line Interface                    32\n",
       "Registry Run Keys / Startup Folder        30\n",
       "Standard Application Layer Protocol       30\n",
       "Remote File Copy                          30\n",
       "File Deletion                             25\n",
       "Valid Accounts                            25\n",
       "Scheduled Task                            24\n",
       "Data Compressed                           22\n",
       "System Network Configuration Discovery    20\n",
       "Spearphishing Link                        20\n",
       "System Information Discovery              20\n",
       "File and Directory Discovery              19\n",
       "Commonly Used Port                        19\n",
       "Masquerading                              19\n",
       "Name: techniques, dtype: int64"
      ]
     },
     "execution_count": 7,
     "metadata": {},
     "output_type": "execute_result"
    }
   ],
   "source": [
    "techniqueFrequency = t2g['techniques'].value_counts()\n",
    "\n",
    "#with pd.option_context('display.max_rows', 10):\n",
    "#    display(techniqueFrequency)\n",
    "\n",
    "techniqueFrequency.head(n=20)\n",
    "#techniqueFrequency"
   ]
  },
  {
   "cell_type": "code",
   "execution_count": 54,
   "metadata": {},
   "outputs": [
    {
     "data": {
      "text/plain": [
       "<BarContainer object of 171 artists>"
      ]
     },
     "execution_count": 54,
     "metadata": {},
     "output_type": "execute_result"
    },
    {
     "data": {
      "image/png": "[encoded data removed]",
      "text/plain": [
       "<Figure size 432x288 with 1 Axes>"
      ]
     },
     "metadata": {
      "needs_background": "light"
     },
     "output_type": "display_data"
    }
   ],
   "source": [
    "plt.bar(techniqueFrequency.index, techniqueFrequency.values)"
   ]
  },
  {
   "cell_type": "markdown",
   "metadata": {},
   "source": [
    "### Mitigation vs Techniques Analysis\n",
    "\n",
    "Build a dataframe cross reference of Mitigations and Techniques"
   ]
  },
  {
   "cell_type": "code",
   "execution_count": 8,
   "metadata": {},
   "outputs": [],
   "source": [
    "mitigations = []\n",
    "techniques2 = []\n",
    "\n",
    "for mitigation in attack.enterprise.mitigations:\n",
    "        for technique in mitigation.techniques:\n",
    "            mitigations.append(mitigation.name)\n",
    "            techniques2.append(technique.name)\n",
    "            \n",
    "data = {'mitigations': mitigations, 'techniques': techniques2}\n",
    "\n",
    "m2t = pd.DataFrame(data, columns=['mitigations', 'techniques'])"
   ]
  },
  {
   "cell_type": "code",
   "execution_count": 9,
   "metadata": {},
   "outputs": [
    {
     "data": {
      "text/html": [
       "<div>\n",
       "<style scoped>\n",
       "    .dataframe tbody tr th:only-of-type {\n",
       "        vertical-align: middle;\n",
       "    }\n",
       "\n",
       "    .dataframe tbody tr th {\n",
       "        vertical-align: top;\n",
       "    }\n",
       "\n",
       "    .dataframe thead th {\n",
       "        text-align: right;\n",
       "    }\n",
       "</style>\n",
       "<table border=\"1\" class=\"dataframe\">\n",
       "  <thead>\n",
       "    <tr style=\"text-align: right;\">\n",
       "      <th></th>\n",
       "      <th>mitigations</th>\n",
       "      <th>techniques</th>\n",
       "    </tr>\n",
       "  </thead>\n",
       "  <tbody>\n",
       "    <tr>\n",
       "      <th>0</th>\n",
       "      <td>.bash_profile and .bashrc Mitigation</td>\n",
       "      <td>.bash_profile and .bashrc</td>\n",
       "    </tr>\n",
       "    <tr>\n",
       "      <th>1</th>\n",
       "      <td>Access Token Manipulation Mitigation</td>\n",
       "      <td>Access Token Manipulation</td>\n",
       "    </tr>\n",
       "    <tr>\n",
       "      <th>2</th>\n",
       "      <td>Accessibility Features Mitigation</td>\n",
       "      <td>Accessibility Features</td>\n",
       "    </tr>\n",
       "    <tr>\n",
       "      <th>3</th>\n",
       "      <td>Account Discovery Mitigation</td>\n",
       "      <td>Account Discovery</td>\n",
       "    </tr>\n",
       "    <tr>\n",
       "      <th>4</th>\n",
       "      <td>Account Manipulation Mitigation</td>\n",
       "      <td>Account Manipulation</td>\n",
       "    </tr>\n",
       "    <tr>\n",
       "      <th>5</th>\n",
       "      <td>Account Use Policies</td>\n",
       "      <td>Brute Force</td>\n",
       "    </tr>\n",
       "    <tr>\n",
       "      <th>6</th>\n",
       "      <td>Active Directory Configuration</td>\n",
       "      <td>Credentials in Files</td>\n",
       "    </tr>\n",
       "    <tr>\n",
       "      <th>7</th>\n",
       "      <td>Active Directory Configuration</td>\n",
       "      <td>SID-History Injection</td>\n",
       "    </tr>\n",
       "    <tr>\n",
       "      <th>8</th>\n",
       "      <td>Active Directory Configuration</td>\n",
       "      <td>Credential Dumping</td>\n",
       "    </tr>\n",
       "    <tr>\n",
       "      <th>9</th>\n",
       "      <td>Active Directory Configuration</td>\n",
       "      <td>Pass the Ticket</td>\n",
       "    </tr>\n",
       "  </tbody>\n",
       "</table>\n",
       "</div>"
      ],
      "text/plain": [
       "                            mitigations                 techniques\n",
       "0  .bash_profile and .bashrc Mitigation  .bash_profile and .bashrc\n",
       "1  Access Token Manipulation Mitigation  Access Token Manipulation\n",
       "2     Accessibility Features Mitigation     Accessibility Features\n",
       "3          Account Discovery Mitigation          Account Discovery\n",
       "4       Account Manipulation Mitigation       Account Manipulation\n",
       "5                  Account Use Policies                Brute Force\n",
       "6        Active Directory Configuration       Credentials in Files\n",
       "7        Active Directory Configuration      SID-History Injection\n",
       "8        Active Directory Configuration         Credential Dumping\n",
       "9        Active Directory Configuration            Pass the Ticket"
      ]
     },
     "execution_count": 9,
     "metadata": {},
     "output_type": "execute_result"
    }
   ],
   "source": [
    "m2t.head(10)"
   ]
  },
  {
   "cell_type": "markdown",
   "metadata": {},
   "source": [
    "#### Mitigation Frequency\n",
    "\n",
    "What is the frequency of each Mitigation when applied to Techniques"
   ]
  },
  {
   "cell_type": "code",
   "execution_count": 10,
   "metadata": {},
   "outputs": [
    {
     "data": {
      "text/plain": [
       "Privileged Account Management              37\n",
       "User Account Management                    37\n",
       "Execution Prevention                       32\n",
       "Restrict File and Directory Permissions    29\n",
       "Network Intrusion Prevention               28\n",
       "Disable or Remove Feature or Program       24\n",
       "Audit                                      23\n",
       "Network Segmentation                       22\n",
       "Operating System Configuration             18\n",
       "Update Software                            17\n",
       "Password Policies                          17\n",
       "User Training                              17\n",
       "Filter Network Traffic                     15\n",
       "Multi-factor Authentication                13\n",
       "Code Signing                               10\n",
       "Restrict Web-Based Content                 10\n",
       "Application Isolation and Sandboxing       10\n",
       "Encrypt Sensitive Information              10\n",
       "Exploit Protection                         10\n",
       "Software Configuration                      8\n",
       "Name: mitigations, dtype: int64"
      ]
     },
     "execution_count": 10,
     "metadata": {},
     "output_type": "execute_result"
    }
   ],
   "source": [
    "mitigationFrequency = m2t['mitigations'].value_counts()\n",
    "mitigationFrequency[0:20]\n",
    "\n",
    "#with pd.option_context('display.max_rows', None):\n",
    "#    display(mitigationFrequency)"
   ]
  },
  {
   "cell_type": "code",
   "execution_count": 87,
   "metadata": {},
   "outputs": [
    {
     "data": {
      "text/plain": [
       "<BarContainer object of 282 artists>"
      ]
     },
     "execution_count": 87,
     "metadata": {},
     "output_type": "execute_result"
    },
    {
     "data": {
      "image/png": "[encoded data removed]",
      "text/plain": [
       "<Figure size 432x288 with 1 Axes>"
      ]
     },
     "metadata": {
      "needs_background": "light"
     },
     "output_type": "display_data"
    }
   ],
   "source": [
    "plt.bar(mitigationFrequency.index, mitigationFrequency.values)"
   ]
  },
  {
   "cell_type": "markdown",
   "metadata": {},
   "source": [
    "### Group vs Technique vs Mitigation\n",
    "\n",
    "Join the two data frames of group/technique and mitigation/technique by techniques. This will allow us to determine the relationship between Groups and Mitigations. For example a Group will use a set of Technique(s) and each Technique will use a set of Mitigation(s).\n"
   ]
  },
  {
   "cell_type": "code",
   "execution_count": 11,
   "metadata": {},
   "outputs": [
    {
     "data": {
      "text/html": [
       "<div>\n",
       "<style scoped>\n",
       "    .dataframe tbody tr th:only-of-type {\n",
       "        vertical-align: middle;\n",
       "    }\n",
       "\n",
       "    .dataframe tbody tr th {\n",
       "        vertical-align: top;\n",
       "    }\n",
       "\n",
       "    .dataframe thead th {\n",
       "        text-align: right;\n",
       "    }\n",
       "</style>\n",
       "<table border=\"1\" class=\"dataframe\">\n",
       "  <thead>\n",
       "    <tr style=\"text-align: right;\">\n",
       "      <th></th>\n",
       "      <th>mitigations</th>\n",
       "      <th>groups</th>\n",
       "    </tr>\n",
       "    <tr>\n",
       "      <th>techniques</th>\n",
       "      <th></th>\n",
       "      <th></th>\n",
       "    </tr>\n",
       "  </thead>\n",
       "  <tbody>\n",
       "    <tr>\n",
       "      <th>Access Token Manipulation</th>\n",
       "      <td>Access Token Manipulation Mitigation</td>\n",
       "      <td>Lazarus Group</td>\n",
       "    </tr>\n",
       "    <tr>\n",
       "      <th>Access Token Manipulation</th>\n",
       "      <td>Access Token Manipulation Mitigation</td>\n",
       "      <td>APT28</td>\n",
       "    </tr>\n",
       "    <tr>\n",
       "      <th>Access Token Manipulation</th>\n",
       "      <td>Access Token Manipulation Mitigation</td>\n",
       "      <td>Turla</td>\n",
       "    </tr>\n",
       "    <tr>\n",
       "      <th>Access Token Manipulation</th>\n",
       "      <td>Privileged Account Management</td>\n",
       "      <td>Lazarus Group</td>\n",
       "    </tr>\n",
       "    <tr>\n",
       "      <th>Access Token Manipulation</th>\n",
       "      <td>Privileged Account Management</td>\n",
       "      <td>APT28</td>\n",
       "    </tr>\n",
       "    <tr>\n",
       "      <th>...</th>\n",
       "      <td>...</td>\n",
       "      <td>...</td>\n",
       "    </tr>\n",
       "    <tr>\n",
       "      <th>Winlogon Helper DLL</th>\n",
       "      <td>User Account Management</td>\n",
       "      <td>Tropic Trooper</td>\n",
       "    </tr>\n",
       "    <tr>\n",
       "      <th>Winlogon Helper DLL</th>\n",
       "      <td>Winlogon Helper DLL Mitigation</td>\n",
       "      <td>Turla</td>\n",
       "    </tr>\n",
       "    <tr>\n",
       "      <th>Winlogon Helper DLL</th>\n",
       "      <td>Winlogon Helper DLL Mitigation</td>\n",
       "      <td>Tropic Trooper</td>\n",
       "    </tr>\n",
       "    <tr>\n",
       "      <th>XSL Script Processing</th>\n",
       "      <td>Execution Prevention</td>\n",
       "      <td>Cobalt Group</td>\n",
       "    </tr>\n",
       "    <tr>\n",
       "      <th>XSL Script Processing</th>\n",
       "      <td>XSL Script Processing Mitigation</td>\n",
       "      <td>Cobalt Group</td>\n",
       "    </tr>\n",
       "  </tbody>\n",
       "</table>\n",
       "<p>3854 rows × 2 columns</p>\n",
       "</div>"
      ],
      "text/plain": [
       "                                                    mitigations  \\\n",
       "techniques                                                        \n",
       "Access Token Manipulation  Access Token Manipulation Mitigation   \n",
       "Access Token Manipulation  Access Token Manipulation Mitigation   \n",
       "Access Token Manipulation  Access Token Manipulation Mitigation   \n",
       "Access Token Manipulation         Privileged Account Management   \n",
       "Access Token Manipulation         Privileged Account Management   \n",
       "...                                                         ...   \n",
       "Winlogon Helper DLL                     User Account Management   \n",
       "Winlogon Helper DLL              Winlogon Helper DLL Mitigation   \n",
       "Winlogon Helper DLL              Winlogon Helper DLL Mitigation   \n",
       "XSL Script Processing                      Execution Prevention   \n",
       "XSL Script Processing          XSL Script Processing Mitigation   \n",
       "\n",
       "                                   groups  \n",
       "techniques                                 \n",
       "Access Token Manipulation   Lazarus Group  \n",
       "Access Token Manipulation           APT28  \n",
       "Access Token Manipulation           Turla  \n",
       "Access Token Manipulation   Lazarus Group  \n",
       "Access Token Manipulation           APT28  \n",
       "...                                   ...  \n",
       "Winlogon Helper DLL        Tropic Trooper  \n",
       "Winlogon Helper DLL                 Turla  \n",
       "Winlogon Helper DLL        Tropic Trooper  \n",
       "XSL Script Processing        Cobalt Group  \n",
       "XSL Script Processing        Cobalt Group  \n",
       "\n",
       "[3854 rows x 2 columns]"
      ]
     },
     "execution_count": 11,
     "metadata": {},
     "output_type": "execute_result"
    }
   ],
   "source": [
    "m2t2a = m2t.set_index('techniques').join(t2g.set_index('techniques'))\n",
    "\n",
    "# remove the rows that are null\n",
    "mta = m2t2a[m2t2a['groups'].notna()]\n",
    "mta"
   ]
  },
  {
   "cell_type": "markdown",
   "metadata": {},
   "source": [
    "#### Mitigation Frequency\n",
    "\n",
    "What is the frequency of Mitigations that apply to all Techniques that are used by all Groups. This gives an indication of the importance of that mitigation in the context of all Groups. "
   ]
  },
  {
   "cell_type": "code",
   "execution_count": 12,
   "metadata": {},
   "outputs": [
    {
     "data": {
      "text/plain": [
       "Network Intrusion Prevention               282\n",
       "Privileged Account Management              235\n",
       "User Training                              152\n",
       "Disable or Remove Feature or Program       142\n",
       "User Account Management                    140\n",
       "Execution Prevention                       136\n",
       "Restrict Web-Based Content                 132\n",
       "Audit                                      110\n",
       "Operating System Configuration             105\n",
       "Password Policies                          102\n",
       "Network Segmentation                       100\n",
       "Application Isolation and Sandboxing        96\n",
       "Antivirus/Antimalware                       92\n",
       "Multi-factor Authentication                 87\n",
       "Restrict File and Directory Permissions     67\n",
       "Exploit Protection                          61\n",
       "Update Software                             58\n",
       "Code Signing                                57\n",
       "Active Directory Configuration              48\n",
       "Filter Network Traffic                      48\n",
       "Name: mitigations, dtype: int64"
      ]
     },
     "execution_count": 12,
     "metadata": {},
     "output_type": "execute_result"
    }
   ],
   "source": [
    "mF = mta['mitigations'].value_counts()\n",
    "mF[0:20]"
   ]
  },
  {
   "cell_type": "code",
   "execution_count": 15,
   "metadata": {},
   "outputs": [],
   "source": [
    "#with pd.option_context('display.max_rows', None):\n",
    "#    display(mF)"
   ]
  },
  {
   "cell_type": "code",
   "execution_count": 96,
   "metadata": {},
   "outputs": [
    {
     "data": {
      "text/plain": [
       "<BarContainer object of 205 artists>"
      ]
     },
     "execution_count": 96,
     "metadata": {},
     "output_type": "execute_result"
    },
    {
     "data": {
      "image/png": "[encoded data removed]",
      "text/plain": [
       "<Figure size 432x288 with 1 Axes>"
      ]
     },
     "metadata": {
      "needs_background": "light"
     },
     "output_type": "display_data"
    }
   ],
   "source": [
    "plt.bar(mF.index, mF.values)"
   ]
  },
  {
   "cell_type": "code",
   "execution_count": 102,
   "metadata": {},
   "outputs": [],
   "source": [
    "mFreqDF = pd.DataFrame({'mitigation': mF.index, 'frequency': mF.values})"
   ]
  },
  {
   "cell_type": "code",
   "execution_count": null,
   "metadata": {},
   "outputs": [],
   "source": []
  }
 ],
 "metadata": {
  "kernelspec": {
   "display_name": "Python 3",
   "language": "python",
   "name": "python3"
  },
  "language_info": {
   "codemirror_mode": {
    "name": "ipython",
    "version": 3
   },
   "file_extension": ".py",
   "mimetype": "text/x-python",
   "name": "python",
   "nbconvert_exporter": "python",
   "pygments_lexer": "ipython3",
   "version": "3.7.5"
  }
 },
 "nbformat": 4,
 "nbformat_minor": 4
}
